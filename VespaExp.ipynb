{
 "cells": [
  {
   "cell_type": "code",
   "execution_count": 2,
   "id": "3a99f43c-e310-46c8-8b82-622e5948a125",
   "metadata": {},
   "outputs": [],
   "source": [
    "# Import necessary libraries\n",
    "import json\n",
    "from tqdm.notebook import tqdm\n",
    "from vespa.deployment import VespaDocker\n",
    "from vespa.io import VespaResponse\n",
    "import pytrec_eval\n",
    "import numpy as np\n",
    "import pandas as pd\n",
    "import matplotlib.pyplot as plt\n",
    "import seaborn as sns\n",
    "import os\n",
    "\n",
    "sns.set(style=\"whitegrid\")"
   ]
  },
  {
   "cell_type": "code",
   "execution_count": 3,
   "id": "9224daa2-2db3-4fdc-a2f3-adde0e02a605",
   "metadata": {},
   "outputs": [
    {
     "data": {
      "application/vnd.jupyter.widget-view+json": {
       "model_id": "6a74438877fb4b05886b8b4d0beccc21",
       "version_major": 2,
       "version_minor": 0
      },
      "text/plain": [
       "Loading JSON:   0%|          | 0/209831 [00:00<?, ? documents/s]"
      ]
     },
     "metadata": {},
     "output_type": "display_data"
    },
    {
     "name": "stdout",
     "output_type": "stream",
     "text": [
      "Total documents loaded: 209831\n",
      "Sample document: {'docid': 'FT931-15931', 'headline': 'ft 09 jan 93 / briefcase, q&a: agreement desirable', 'text': 'earn income pounds 10,000 unearned income pounds 40,000. assets result inheritance pounds 500,000 house worth pounds 100,000. husband assets earns pounds 25,000. love him, relationship volatile date. marry divorce five years children changes financial positions, risk courts award capital? risk envisage divorce, court power direct financial settlement deems circumstances. contractual agreement settling parties rights (in absence children) desirable. legal responsibility accepted financial times answers given columns. inquiries answered post soon possible.', 'embedding': [-0.027918530628085136, 0.08089904487133026, -0.03913348913192749, 0.06492197513580322, -0.09033701568841934, 0.017969951033592224, 0.037478137761354446, 0.03142697736620903, 0.014147976413369179, 0.013471078127622604, -0.003346281126141548, -0.08918455243110657, 0.05032791197299957, 0.037474893033504486, -0.0022476117592304945, 0.027324853464961052, 0.032305072993040085, -0.040175214409828186, -0.10314775258302689, 0.05952831357717514, 0.0014457926154136658, 0.010899843648076057, -0.022568684071302414, -0.08201806247234344, 0.08427039533853531, -0.05777234956622124, 0.05453624576330185, 0.023683913052082062, 0.03355010226368904, -0.03651497885584831, 0.08745330572128296, 0.05839165300130844, 0.09042797237634659, -0.006534986663609743, 0.039032693952322006, 0.040215156972408295, 0.019622882828116417, 0.027443714439868927, -0.005033130757510662, -0.04962274432182312, -0.0060724965296685696, -0.0841243639588356, 0.07860730588436127, -0.07682418823242188, -0.03975201025605202, -0.024929579347372055, 0.027830280363559723, -0.005567710381001234, -0.01514447946101427, 0.07213574647903442, -0.0523107685148716, -0.001960351597517729, -0.035026028752326965, 0.0538579560816288, -0.023849070072174072, 0.024562103673815727, -0.010887835174798965, 0.047634534537792206, -0.025491829961538315, -0.05797223374247551, -0.007468526251614094, 0.10666857659816742, -0.026542242616415024, -0.027945203706622124, 0.06574460119009018, -0.03452705964446068, 0.015592360869050026, 0.012663774192333221, -0.04733383655548096, 0.05344377085566521, 0.06796829402446747, -0.05276378244161606, -0.08989401906728745, -0.04594673588871956, -0.019251737743616104, -0.0460679829120636, -0.001666584867052734, 0.00140281580388546, -0.004507800098508596, -0.06361650675535202, -0.08540573716163635, -0.017150403931736946, -0.0647762343287468, -0.03951628506183624, -0.04687057435512543, -0.016296282410621643, 0.008181866258382797, -7.459073094651103e-05, 0.03350194916129112, 0.01158438716083765, 0.009258333593606949, -0.03097972460091114, 0.06706200540065765, 0.015831295400857925, -0.01142967864871025, 0.029013879597187042, -0.04251761734485626, -0.009774462319910526, -0.021875521168112755, 0.043541070073843, 0.021848643198609352, 0.0209345705807209, 0.0013789491495117545, 0.024236712604761124, -0.04757869616150856, 0.023183681070804596, 0.03304743021726608, 0.06041375547647476, -0.030322475358843803, -0.03771921247243881, -0.061201099306344986, 0.005728462710976601, -0.03504343703389168, -0.01963512971997261, 0.07948599010705948, -0.0017575607635080814, -0.01754630170762539, 0.029957503080368042, 0.03893342614173889, -0.023907726630568504, 0.04580036178231239, 0.02261805348098278, -0.0879536122083664, -0.005515164230018854, -0.052105359733104706, -0.08080983906984329, -0.010566645301878452, 1.2431699115878282e-32, 0.02035147324204445, -0.08772067725658417, 0.016911156475543976, 0.07805685698986053, -0.008031785488128662, 0.060960330069065094, 0.011441689915955067, 0.026902824640274048, -0.06293047964572906, 0.0488528348505497, 0.06649906933307648, 0.0746968612074852, 0.0009413054212927818, -0.057989902794361115, -0.03549167141318321, 0.029739780351519585, -0.06020219251513481, 0.02534179575741291, 0.04273240640759468, 0.03883730620145798, 0.0687977522611618, 0.008479737676680088, 0.0815233662724495, 0.050139278173446655, -0.014895692467689514, 0.011603563092648983, -0.0015218735206872225, -0.018925871700048447, 0.05584781989455223, -0.013441396877169609, -0.017660245299339294, 0.03329751268029213, 0.021716030314564705, -0.12749725580215454, -0.04551400989294052, 0.09831499308347702, -0.03002064861357212, 0.010424535721540451, 0.0047842226922512054, 0.04361693188548088, -0.0472346693277359, -0.06716104596853256, 0.04781051352620125, -0.032378219068050385, -0.04625409469008446, 0.09603691101074219, 0.06845039874315262, 0.04074108973145485, -0.0037409875076264143, 0.047064825892448425, 0.002015993231907487, -0.04038093984127045, -0.09508280456066132, -0.026905257254838943, -0.05892510712146759, -0.008076995611190796, -0.07538077235221863, 0.07160063832998276, -0.058168087154626846, 0.024586498737335205, 0.04850277304649353, -0.07699570804834366, 0.017896894365549088, -0.0035338522866368294, -0.0597507506608963, 0.01384247001260519, 0.025552872568368912, 0.0033104848116636276, 0.0036029010079801083, -0.025003677234053612, -0.011470681056380272, 0.03476891294121742, 0.09899578243494034, -0.022731829434633255, 0.025408046320080757, -0.017006777226924896, 0.027998007833957672, -0.029595648869872093, 0.0545976422727108, 0.08891923725605011, -0.015775976702570915, 0.06227267533540726, 0.05202271044254303, 0.040391772985458374, 0.10047517716884613, -0.008022305555641651, -0.01119176670908928, -0.0626395121216774, 0.017302853986620903, 0.07437169551849365, 0.0077500599436461926, -0.06177929788827896, 0.03841990604996681, -0.02879398874938488, -0.0005707638338208199, -1.032029526471449e-32, -0.058465246111154556, -0.03568955883383751, -0.08993356674909592, 0.031208518892526627, 0.041158221662044525, 0.03254900872707367, 0.01358090154826641, 0.005538150202482939, -0.006190411280840635, 0.08124945312738419, -0.006341025698930025, -0.06506143510341644, 0.0040945494547486305, -0.007265155669301748, -0.08961968123912811, -0.10662081837654114, -0.001852267887443304, -0.11094668507575989, 0.046438876539468765, 0.023544928058981895, 0.04797790199518204, 0.07505104690790176, 0.01977451704442501, 0.15138304233551025, 0.042348433285951614, 0.0392971970140934, -0.0521753691136837, 0.0449318028986454, -0.0682787075638771, 0.0841115415096283, -0.004526903387159109, -0.026738056913018227, -0.09201397746801376, -0.026282530277967453, -0.03399709239602089, -0.1410912722349167, 0.026928912848234177, -0.05410904809832573, 0.021510478109121323, 0.050299547612667084, -0.012814240530133247, -0.014592975378036499, -0.024211738258600235, 0.027298638597130775, 0.04983306676149368, -0.06121417507529259, 0.07617838680744171, -0.06677545607089996, 0.15897110104560852, -0.04768695309758186, 0.1888940930366516, 0.030188949778676033, 0.00553962541744113, 0.03317001834511757, -0.03412909805774689, 0.03951755538582802, 0.027720971032977104, 0.0019243167480453849, 0.045928552746772766, 0.038722869008779526, -0.004509416874498129, 0.12823273241519928, -0.028751978650689125, 0.12138141691684723, -0.0074004800990223885, 0.00854781549423933, -0.06385783106088638, -0.012333759106695652, -0.07581333070993423, -0.03660621494054794, 0.011362014338374138, -0.15125641226768494, 0.11232150346040726, -0.04555303603410721, 0.09722068905830383, 0.04200603812932968, 0.05584397539496422, -0.04068949446082115, 0.0742730125784874, 0.005453441757708788, -0.02538425289094448, 0.013338648714125156, 0.07113628834486008, -0.002817356726154685, -0.016047468408942223, -0.019147761166095734, -0.08319603651762009, -0.0483035072684288, 0.05519773066043854, 0.0597611702978611, -0.04052112251520157, -0.0021047296468168497, 0.026135582476854324, -0.04452602565288544, 0.00465952605009079, -5.5359748785122065e-08, -0.05256187543272972, -0.030149951577186584, -0.08352860808372498, -0.09360437840223312, -0.07165510952472687, -0.029276782646775246, 0.04070012643933296, -0.012916258536279202, 0.024614816531538963, 0.04124874994158745, -0.02743665501475334, -0.05117203667759895, -0.06793024390935898, 0.003812540089711547, -0.07604850828647614, -0.06154720485210419, 0.042385831475257874, -0.005518563091754913, -0.03200201690196991, -0.06977524608373642, 0.08422956615686417, -0.01516825333237648, -0.03466808423399925, -0.01042033638805151, -0.056720975786447525, -0.011545198038220406, 0.022812601178884506, 0.08369667828083038, -0.016459017992019653, 0.036649610847234726, 0.00530649907886982, -0.032012101262807846, -0.03275773674249649, -0.015600878745317459, 0.01470799557864666, -0.01948484219610691, 0.0007571427850052714, 0.05197075009346008, -0.039224110543727875, 0.050923969596624374, -0.025766031816601753, 0.009448826313018799, -0.01543933991342783, -0.027087394148111343, -0.0062051997520029545, -0.016013165935873985, -0.13070783019065857, 0.04649791121482849, -0.005306510720402002, -0.05742533877491951, -0.005965428426861763, -0.013278399594128132, 0.00834436435252428, -0.0617075115442276, -0.002984632272273302, -0.01830229163169861, 0.04624616354703903, 0.02728555165231228, -0.025604793801903725, -0.01845640502870083, 0.07664762437343597, -0.047707896679639816, 0.00705659668892622, -0.03990825638175011]}\n"
     ]
    }
   ],
   "source": [
    "docs_json_path = 'data/plain_docs.json'  \n",
    "with open(docs_json_path, 'r', encoding='utf-8') as f:\n",
    "    raw_content = f.read()\n",
    "    documents = json.loads(raw_content)\n",
    "    financial_times_docs = []\n",
    "    for doc in tqdm(documents, total=len(documents), desc=\"Loading JSON\", unit=\" documents\"):\n",
    "        financial_times_docs.append(doc)\n",
    "\n",
    "print(f\"Total documents loaded: {len(financial_times_docs)}\")\n",
    "print(\"Sample document:\", financial_times_docs[0])"
   ]
  },
  {
   "cell_type": "code",
   "execution_count": 4,
   "id": "79286550",
   "metadata": {},
   "outputs": [],
   "source": [
    "from vespa.package import ApplicationPackage\n",
    "app_package = ApplicationPackage(name=\"ftvespa\")"
   ]
  },
  {
   "cell_type": "code",
   "execution_count": 5,
   "id": "ee2d9a12-83cb-4de4-ae90-c0cf0ce543d5",
   "metadata": {},
   "outputs": [],
   "source": [
    "from vespa.package import Document, Field, HNSW\n",
    "products_document = Document(\n",
    "    fields=[\n",
    "        Field(name = \"docid\",    type = \"string\", indexing = [\"attribute\", \"summary\"]),\n",
    "        Field(name = \"headline\",    type = \"string\", indexing = [\"index\", \"summary\"], index = \"enable-bm25\"),\n",
    "        Field(name = \"text\", type = \"string\", indexing = [\"index\", \"summary\"], index = \"enable-bm25\"),\n",
    "        Field(name=\"embedding\", type=\"tensor<float>(x[384])\", indexing=[\"attribute\", \"index\"],\n",
    "            ann=HNSW(\n",
    "                distance_metric=\"euclidean\",\n",
    "                max_links_per_node=16,\n",
    "                neighbors_to_explore_at_insert=500),\n",
    "        )\n",
    "    ]\n",
    ")"
   ]
  },
  {
   "cell_type": "code",
   "execution_count": 6,
   "id": "4a706eb7",
   "metadata": {},
   "outputs": [],
   "source": [
    "from vespa.package import Schema, FieldSet, RankProfile\n",
    "\n",
    "products_schema = Schema(\n",
    "    name=\"ftvespa\",\n",
    "    document=products_document,\n",
    "    fieldsets=[FieldSet(name=\"default\", fields=[\"headline\", \"text\"])],\n",
    "    rank_profiles=[\n",
    "        RankProfile(name=\"bm25\", inherits=\"default\", first_phase=\"bm25(headline) + bm25(text)\"),\n",
    "        RankProfile(name=\"nativeRank\", inherits=\"default\", first_phase=\"nativeRank(headline,text)\"),\n",
    "        RankProfile(name=\"embedding_similarity\", inherits=\"default\", first_phase=\"closeness(embedding)\"),\n",
    "        RankProfile(name=\"bm25_embedding_similarity\", inherits=\"default\", first_phase=\"bm25(headline) + bm25(text) + closeness(embedding)\")\n",
    "    ]\n",
    ")"
   ]
  },
  {
   "cell_type": "code",
   "execution_count": 7,
   "id": "fa701c23",
   "metadata": {},
   "outputs": [],
   "source": [
    "from vespa.package import ApplicationPackage, QueryProfile, QueryProfileType, QueryTypeField\n",
    "\n",
    "app_package = ApplicationPackage(\n",
    "    name=\"myapp\",\n",
    "    schema=[products_schema], \n",
    "    query_profile=QueryProfile(),\n",
    "    query_profile_type=QueryProfileType(\n",
    "        fields=[\n",
    "                QueryTypeField(\n",
    "                name=\"ranking.features.query(embedding_text)\",\n",
    "                type=\"tensor<float>(x[384])\",\n",
    "            )\n",
    "        ]\n",
    "    )\n",
    ")"
   ]
  },
  {
   "cell_type": "code",
   "execution_count": 8,
   "id": "b617be17",
   "metadata": {},
   "outputs": [
    {
     "name": "stdout",
     "output_type": "stream",
     "text": [
      "schema ftvespa {\n",
      "    document ftvespa {\n",
      "        field docid type string {\n",
      "            indexing: attribute | summary\n",
      "        }\n",
      "        field headline type string {\n",
      "            indexing: index | summary\n",
      "            index: enable-bm25\n",
      "        }\n",
      "        field text type string {\n",
      "            indexing: index | summary\n",
      "            index: enable-bm25\n",
      "        }\n",
      "        field embedding type tensor<float>(x[384]) {\n",
      "            indexing: attribute | index\n",
      "            attribute {\n",
      "                distance-metric: euclidean\n",
      "            }\n",
      "            index {\n",
      "                hnsw {\n",
      "                    max-links-per-node: 16\n",
      "                    neighbors-to-explore-at-insert: 500\n",
      "                }\n",
      "            }\n",
      "        }\n",
      "    }\n",
      "    fieldset default {\n",
      "        fields: headline, text\n",
      "    }\n",
      "    rank-profile bm25 inherits default {\n",
      "        first-phase {\n",
      "            expression {\n",
      "                bm25(headline) + bm25(text)\n",
      "            }\n",
      "        }\n",
      "    }\n",
      "    rank-profile nativeRank inherits default {\n",
      "        first-phase {\n",
      "            expression {\n",
      "                nativeRank(headline,text)\n",
      "            }\n",
      "        }\n",
      "    }\n",
      "    rank-profile embedding_similarity inherits default {\n",
      "        first-phase {\n",
      "            expression {\n",
      "                closeness(embedding)\n",
      "            }\n",
      "        }\n",
      "    }\n",
      "    rank-profile bm25_embedding_similarity inherits default {\n",
      "        first-phase {\n",
      "            expression {\n",
      "                bm25(headline) + bm25(text) + closeness(embedding)\n",
      "            }\n",
      "        }\n",
      "    }\n",
      "}\n"
     ]
    }
   ],
   "source": [
    "print(app_package.get_schema('ftvespa').schema_to_text)"
   ]
  },
  {
   "cell_type": "code",
   "execution_count": 9,
   "id": "5b4b121e-3769-410b-a659-1f5949b0f46b",
   "metadata": {},
   "outputs": [
    {
     "name": "stdout",
     "output_type": "stream",
     "text": [
      "Waiting for configuration server, 0/60 seconds...\n",
      "Waiting for configuration server, 5/60 seconds...\n",
      "Waiting for application to come up, 0/300 seconds.\n",
      "Waiting for application to come up, 5/300 seconds.\n",
      "Waiting for application to come up, 10/300 seconds.\n",
      "Application is up!\n",
      "Finished deployment.\n",
      "Vespa deployed successfully.\n"
     ]
    }
   ],
   "source": [
    "# Deploy the Vespa application using Docker\n",
    "vespa_docker = VespaDocker(container_memory=\"12G\")\n",
    "app = vespa_docker.deploy(application_package=app_package)\n",
    "\n",
    "print(\"Vespa deployed successfully.\")"
   ]
  },
  {
   "cell_type": "code",
   "execution_count": 10,
   "id": "bd661940",
   "metadata": {},
   "outputs": [],
   "source": [
    "batch_feed = [\n",
    "    {\n",
    "        \"id\": doc['docid'], \n",
    "        \"fields\": doc\n",
    "    }\n",
    "    for idx, doc in enumerate(financial_times_docs)\n",
    "]"
   ]
  },
  {
   "cell_type": "code",
   "execution_count": 11,
   "id": "60878819",
   "metadata": {},
   "outputs": [
    {
     "data": {
      "application/vnd.jupyter.widget-view+json": {
       "model_id": "339c047a46b9466ebe7681d79bf7bed3",
       "version_major": 2,
       "version_minor": 0
      },
      "text/plain": [
       "Feeding Docs:   0%|          | 0/209831 [00:00<?, ?doc/s]"
      ]
     },
     "metadata": {},
     "output_type": "display_data"
    },
    {
     "name": "stdout",
     "output_type": "stream",
     "text": [
      "[feed_docs] Feed complete. 209831/209831 successes.\n"
     ]
    }
   ],
   "source": [
    "success_count = 0\n",
    "pbar = tqdm(total=len(financial_times_docs), desc=\"Feeding Docs\", unit=\"doc\")\n",
    "\n",
    "def callback(response: VespaResponse, id: str):\n",
    "    global success_count\n",
    "    pbar.update(1)\n",
    "    if response.is_successful():\n",
    "        success_count += 1\n",
    "    else:\n",
    "        print(f\"Failed doc {id}, status={response.status_code}: {response.get_json()}\")\n",
    "\n",
    "app.feed_iterable(batch_feed, schema=\"ftvespa\", callback=callback)\n",
    "\n",
    "pbar.close()\n",
    "print(f\"[feed_docs] Feed complete. {success_count}/{len(financial_times_docs)} successes.\")"
   ]
  },
  {
   "cell_type": "code",
   "execution_count": 12,
   "id": "d6ea31fb",
   "metadata": {},
   "outputs": [],
   "source": [
    "query = {\n",
    "    'yql': 'select * from sources ftvespa where userQuery();',\n",
    "    'query': 'search engine',\n",
    "    'ranking': 'nativeRank',\n",
    "    'type': 'any',\n",
    "    'hits': 5\n",
    "}"
   ]
  },
  {
   "cell_type": "code",
   "execution_count": 13,
   "id": "f115c677",
   "metadata": {},
   "outputs": [
    {
     "name": "stdout",
     "output_type": "stream",
     "text": [
      "Number of documents retrieved: 6457\n",
      "Number of documents returned: 5\n"
     ]
    }
   ],
   "source": [
    "results = app.query(body=query)\n",
    "\n",
    "print('Number of documents retrieved: '+ str(results.number_documents_retrieved))\n",
    "print('Number of documents returned: '+ str(len(results.hits)))"
   ]
  },
  {
   "cell_type": "code",
   "execution_count": 14,
   "id": "14c2d664",
   "metadata": {},
   "outputs": [],
   "source": [
    "QUERIES_FILE = \"data/queries.json\"\n",
    "QRELS_FILE = \"data/qrels.json\"\n",
    "\n",
    "def load_queries(path):\n",
    "    if not os.path.exists(path):\n",
    "        raise FileNotFoundError(f\"{path} not found.\")\n",
    "    with open(path, \"r\", encoding=\"utf-8\") as f:\n",
    "        return json.load(f)\n",
    "\n",
    "def load_qrels(path):\n",
    "    if not os.path.exists(path):\n",
    "        raise FileNotFoundError(f\"{path} not found.\")\n",
    "    with open(path, \"r\", encoding=\"utf-8\") as f:\n",
    "        data = json.load(f)\n",
    "    qrels_dict = {}\n",
    "    for qid, doc_rel_list in data.items():\n",
    "        rel_map = {}\n",
    "        for doc_id, relevance in doc_rel_list:\n",
    "            rel_map[doc_id] = relevance\n",
    "        qrels_dict[qid] = rel_map\n",
    "    return qrels_dict\n",
    "\n",
    "\n",
    "queries = load_queries(QUERIES_FILE)\n",
    "qrels = load_qrels(QRELS_FILE)"
   ]
  },
  {
   "cell_type": "code",
   "execution_count": 15,
   "id": "888b0130",
   "metadata": {},
   "outputs": [],
   "source": [
    "def preprocess_query(query_text):\n",
    "    \"\"\"Basic query preprocessing.\"\"\"\n",
    "    # Convert to lowercase\n",
    "    query = query_text.lower()\n",
    "    # Remove special characters that might affect Vespa query parsing\n",
    "    query = query.replace('\"', ' ')\n",
    "    query = query.replace(\"'\", ' ')\n",
    "    return query"
   ]
  },
  {
   "cell_type": "code",
   "execution_count": 16,
   "id": "4e4f36ec",
   "metadata": {},
   "outputs": [],
   "source": [
    "from vespa.io import VespaQueryResponse\n",
    "\n",
    "TOP_K = 30\n",
    "\n",
    "def run_vespa_search(app, queries):\n",
    "    trec_run = {}\n",
    "    rows_for_csv = []\n",
    "    \n",
    "    total_hits_found = 0\n",
    "    queries_with_hits = 0\n",
    "\n",
    "    with app.syncio(connections=8) as session:\n",
    "        for q in tqdm(queries, desc=\"BM25 Queries\", unit=\"query\"):\n",
    "            qid = q[\"qid\"]\n",
    "            #query_text = preprocess_query(q[\"query\"])\n",
    "            query_text = q[\"query\"]\n",
    "            try:\n",
    "                response: VespaQueryResponse = session.query(\n",
    "                    body={\n",
    "                        'yql': 'select * from sources ftvespa where userQuery();',\n",
    "                        'query': query_text,  # Add the actual query text here\n",
    "                        'ranking': 'bm25',\n",
    "                        \"hits\": TOP_K,\n",
    "                        \"timeout\": \"15s\",\n",
    "                        \"grammar\": \"weakAnd\"  # Allow partial matches\n",
    "                    }\n",
    "                )\n",
    "\n",
    "                if response.is_successful():\n",
    "                    hits = response.hits\n",
    "                    if hits:\n",
    "                        queries_with_hits += 1\n",
    "                        total_hits_found += len(hits)\n",
    "                    \n",
    "                    doc_scores = {}\n",
    "                    rank = 1\n",
    "                    for hit in hits:\n",
    "                        doc_id = hit[\"id\"].split(\"::\")[-1]\n",
    "                        score = float(hit[\"relevance\"])\n",
    "\n",
    "                        doc_scores[doc_id] = score\n",
    "                        rows_for_csv.append([qid, doc_id, rank, score])\n",
    "                        rank += 1\n",
    "\n",
    "                    trec_run[qid] = doc_scores\n",
    "                else:\n",
    "                    print(f\"\\nQuery failed for qid {qid}:\")\n",
    "                    print(f\"Status: {response.status_code}\")\n",
    "                    print(f\"Response: {response.json}\")\n",
    "\n",
    "            except Exception as e:\n",
    "                print(f\"\\nError processing query {qid}: {str(e)}\")\n",
    "                continue\n",
    "\n",
    "    print(f\"\\nTotal queries with hits: {queries_with_hits}\")\n",
    "    print(f\"Average hits per query: {total_hits_found/len(queries):.2f}\")\n",
    "    \n",
    "    return trec_run, rows_for_csv"
   ]
  },
  {
   "cell_type": "code",
   "execution_count": 17,
   "id": "388f558a",
   "metadata": {},
   "outputs": [
    {
     "data": {
      "application/vnd.jupyter.widget-view+json": {
       "model_id": "6c345def970b4b4687097b18457bf397",
       "version_major": 2,
       "version_minor": 0
      },
      "text/plain": [
       "BM25 Queries:   0%|          | 0/150 [00:00<?, ?query/s]"
      ]
     },
     "metadata": {},
     "output_type": "display_data"
    },
    {
     "name": "stdout",
     "output_type": "stream",
     "text": [
      "\n",
      "Total queries with hits: 150\n",
      "Average hits per query: 29.32\n"
     ]
    }
   ],
   "source": [
    "trec_run, rows_for_csv = run_vespa_search(app, queries)"
   ]
  },
  {
   "cell_type": "code",
   "execution_count": 18,
   "id": "0e0ab07c",
   "metadata": {},
   "outputs": [],
   "source": [
    "import csv\n",
    "from typing import Dict, List, Tuple\n",
    "\n",
    "def evaluate_search_results(\n",
    "    trec_run: Dict,\n",
    "    qrels: Dict,\n",
    "    rows_for_csv: List[List],\n",
    "    output_csv: str = \"bm25_topk.csv\",\n",
    "    per_query_json: str = \"bm25_per_query.json\",\n",
    "    aggregate_json: str = \"bm25_metrics.json\"\n",
    ") -> Tuple[Dict, Dict]:\n",
    "\n",
    "    evaluator = pytrec_eval.RelevanceEvaluator(\n",
    "        qrels, {\"map\", \"ndcg\", \"ndcg_cut_5\", \"ndcg_cut_10\"}\n",
    "    )\n",
    "    eval_results = evaluator.evaluate(trec_run)\n",
    "\n",
    "    metric_sums = {\"map\": 0.0, \"ndcg\": 0.0, \"ndcg_cut_5\": 0.0, \"ndcg_cut_10\": 0.0}\n",
    "    per_query_dict = {}\n",
    "    \n",
    "    for qid, metrics in eval_results.items():\n",
    "        per_query_dict[qid] = {m: metrics[m] for m in metric_sums.keys()}\n",
    "        for m in metric_sums:\n",
    "            metric_sums[m] += metrics[m]\n",
    "\n",
    "    num_queries = len(eval_results)\n",
    "    agg_metrics = {}\n",
    "    \n",
    "    if num_queries > 0:\n",
    "        print(f\"\\n--- EVALUATION RESULTS over {num_queries} queries ---\")\n",
    "        for m in metric_sums:\n",
    "            agg_metrics[m] = metric_sums[m] / num_queries\n",
    "            print(f\"{m}: {agg_metrics[m]:.4f}\")\n",
    "    else:\n",
    "        print(\"No queries or no evaluated queries found.\")\n",
    "        for m in metric_sums:\n",
    "            agg_metrics[m] = 0.0\n",
    "\n",
    "    if rows_for_csv:\n",
    "        with open(output_csv, \"w\", newline=\"\", encoding=\"utf-8\") as out_f:\n",
    "            writer = csv.writer(out_f)\n",
    "            writer.writerow([\"qid\", \"doc_id\", \"rank\", \"score\"])\n",
    "            for row in rows_for_csv:\n",
    "                writer.writerow(row)\n",
    "        print(f\"\\nWrote top-K results to {output_csv}\")\n",
    "\n",
    "    with open(per_query_json, \"w\", encoding=\"utf-8\") as f:\n",
    "        json.dump(per_query_dict, f, indent=2)\n",
    "        print(f\"Wrote per-query metrics to {per_query_json}\")\n",
    "\n",
    "    with open(aggregate_json, \"w\", encoding=\"utf-8\") as f:\n",
    "        json.dump(agg_metrics, f, indent=2)\n",
    "        print(f\"Wrote aggregate metrics to {aggregate_json}\")\n",
    "\n",
    "    return per_query_dict, agg_metrics"
   ]
  },
  {
   "cell_type": "code",
   "execution_count": 19,
   "id": "e383abd7",
   "metadata": {},
   "outputs": [
    {
     "name": "stdout",
     "output_type": "stream",
     "text": [
      "\n",
      "--- EVALUATION RESULTS over 150 queries ---\n",
      "map: 0.0576\n",
      "ndcg: 0.1348\n",
      "ndcg_cut_5: 0.3668\n",
      "ndcg_cut_10: 0.3168\n",
      "\n",
      "Wrote top-K results to bm25_topk.csv\n",
      "Wrote per-query metrics to bm25_per_query.json\n",
      "Wrote aggregate metrics to bm25_metrics.json\n"
     ]
    }
   ],
   "source": [
    "per_query_metrics, sparse_aggregate_metrics = evaluate_search_results(\n",
    "    trec_run=trec_run,\n",
    "    qrels=qrels,\n",
    "    rows_for_csv=rows_for_csv\n",
    ")"
   ]
  },
  {
   "cell_type": "code",
   "execution_count": 20,
   "id": "e106a2e0",
   "metadata": {},
   "outputs": [
    {
     "name": "stdout",
     "output_type": "stream",
     "text": [
      "Loading model: sentence-transformers/all-MiniLM-L6-v2\n"
     ]
    }
   ],
   "source": [
    "# Dense Retrieval Configuration\n",
    "from sentence_transformers import SentenceTransformer\n",
    "\n",
    "# Output file paths for dense retrieval results\n",
    "DENSE_OUTPUT_CSV = \"dense_topk.csv\"\n",
    "DENSE_PER_QUERY_JSON = \"dense_per_query.json\"\n",
    "DENSE_AGGREGATE_JSON = \"dense_metrics.json\"\n",
    "MODEL_NAME = \"sentence-transformers/all-MiniLM-L6-v2\"\n",
    "\n",
    "# Load the model for query embeddings\n",
    "print(f\"Loading model: {MODEL_NAME}\")\n",
    "model = SentenceTransformer(MODEL_NAME)"
   ]
  },
  {
   "cell_type": "code",
   "execution_count": 21,
   "id": "7800bbc6",
   "metadata": {},
   "outputs": [],
   "source": [
    "def run_dense_search(app, queries, model, top_k=30):\n",
    "    trec_run = {}\n",
    "    rows_for_csv = []\n",
    "\n",
    "    print(f\"[pure_dense_eval] Running {len(queries)} queries with top {top_k} results each...\")\n",
    "\n",
    "    for q in tqdm(queries, desc=\"Dense Queries\", unit=\"query\"):\n",
    "        qid = q[\"qid\"]\n",
    "        query_text = q[\"query\"]\n",
    "\n",
    "        # Encode query\n",
    "        emb = model.encode(query_text).tolist()\n",
    "\n",
    "        # -- IMPORTANT: nearestNeighbor(embedding, embedding_text), single braces:\n",
    "        yql = f'select * from sources * where ([{{targetHits:{top_k}}}]nearestNeighbor(embedding, embedding_text));'\n",
    "\n",
    "        body = {\n",
    "            \"yql\": yql,\n",
    "            \"ranking.profile\": \"embedding_similarity\",  # rank-profile must have closeness(embedding)\n",
    "            \"hits\": top_k,\n",
    "            # feed your vector as a query feature named embedding_text\n",
    "            \"ranking.features.query(embedding_text)\": emb,\n",
    "        }\n",
    "\n",
    "        response: VespaQueryResponse = app.query(body=body)\n",
    "\n",
    "        if response.is_successful():\n",
    "            doc_scores = {}\n",
    "            rank = 1\n",
    "            for hit in response.hits:\n",
    "                doc_id = hit[\"id\"].split(\"::\")[-1]\n",
    "                score = float(hit[\"relevance\"])\n",
    "                \n",
    "                doc_scores[doc_id] = score\n",
    "                rows_for_csv.append([qid, doc_id, rank, score])\n",
    "                rank += 1\n",
    "\n",
    "            trec_run[qid] = doc_scores\n",
    "        else:\n",
    "            print(f\"[pure_dense_eval] Query failed for qid {qid} => status {response.status_code}\")\n",
    "\n",
    "    return trec_run, rows_for_csv\n"
   ]
  },
  {
   "cell_type": "code",
   "execution_count": 22,
   "id": "52b126ed",
   "metadata": {},
   "outputs": [],
   "source": [
    "def analyze_dense_performance(queries, eval_results, trec_run):\n",
    "    \"\"\"\n",
    "    Analyze dense retrieval performance including query-level analysis\n",
    "    \n",
    "    Args:\n",
    "        queries: List of query dictionaries\n",
    "        eval_results: Dictionary of evaluation results per query\n",
    "        trec_run: Dictionary of search results in TREC format\n",
    "    \"\"\"\n",
    "    # Find best and worst performing queries\n",
    "    performance_data = []\n",
    "    for qid in eval_results:\n",
    "        query_text = next(q[\"query\"] for q in queries if q[\"qid\"] == qid)\n",
    "        metrics = eval_results[qid]\n",
    "        num_results = len(trec_run[qid]) if qid in trec_run else 0\n",
    "        \n",
    "        performance_data.append({\n",
    "            'qid': qid,\n",
    "            'query': query_text,\n",
    "            'map': metrics['map'],\n",
    "            'ndcg': metrics['ndcg'],\n",
    "            'ndcg_cut_5': metrics['ndcg_cut_5'],\n",
    "            'num_results': num_results\n",
    "        })\n",
    "    \n",
    "    # Sort by MAP score\n",
    "    performance_data.sort(key=lambda x: x['map'])\n",
    "    \n",
    "    print(\"\\n=== Query Performance Analysis ===\")\n",
    "    print(\"\\nWorst Performing Queries (by MAP):\")\n",
    "    for entry in performance_data[:5]:\n",
    "        print(f\"QID: {entry['qid']}\")\n",
    "        print(f\"Query: {entry['query']}\")\n",
    "        print(f\"MAP: {entry['map']:.4f}, NDCG@5: {entry['ndcg_cut_5']:.4f}\")\n",
    "        print(f\"Number of results: {entry['num_results']}\")\n",
    "        print(\"---\")\n",
    "    \n",
    "    print(\"\\nBest Performing Queries (by MAP):\")\n",
    "    for entry in performance_data[-5:]:\n",
    "        print(f\"QID: {entry['qid']}\")\n",
    "        print(f\"Query: {entry['query']}\")\n",
    "        print(f\"MAP: {entry['map']:.4f}, NDCG@5: {entry['ndcg_cut_5']:.4f}\")\n",
    "        print(f\"Number of results: {entry['num_results']}\")\n",
    "        print(\"---\")\n",
    "    \n",
    "    return performance_data"
   ]
  },
  {
   "cell_type": "code",
   "execution_count": 23,
   "id": "551c773c",
   "metadata": {},
   "outputs": [
    {
     "name": "stdout",
     "output_type": "stream",
     "text": [
      "Running dense retrieval evaluation...\n",
      "[pure_dense_eval] Running 150 queries with top 30 results each...\n"
     ]
    },
    {
     "data": {
      "application/vnd.jupyter.widget-view+json": {
       "model_id": "4acab3bb5b7840beb269fdd1e79af403",
       "version_major": 2,
       "version_minor": 0
      },
      "text/plain": [
       "Dense Queries:   0%|          | 0/150 [00:00<?, ?query/s]"
      ]
     },
     "metadata": {},
     "output_type": "display_data"
    },
    {
     "name": "stdout",
     "output_type": "stream",
     "text": [
      "\n",
      "--- EVALUATION RESULTS over 150 queries ---\n",
      "map: 0.0511\n",
      "ndcg: 0.1271\n",
      "ndcg_cut_5: 0.3517\n",
      "ndcg_cut_10: 0.3016\n",
      "\n",
      "Wrote top-K results to dense_topk.csv\n",
      "Wrote per-query metrics to dense_per_query.json\n",
      "Wrote aggregate metrics to dense_metrics.json\n",
      "\n",
      "=== Query Performance Analysis ===\n",
      "\n",
      "Worst Performing Queries (by MAP):\n",
      "QID: 302\n",
      "Query: Poliomyelitis and Post-Polio\n",
      "MAP: 0.0000, NDCG@5: 0.0000\n",
      "Number of results: 30\n",
      "---\n",
      "QID: 303\n",
      "Query: Hubble Telescope Achievements\n",
      "MAP: 0.0000, NDCG@5: 0.0000\n",
      "Number of results: 30\n",
      "---\n",
      "QID: 309\n",
      "Query: Rap and Crime\n",
      "MAP: 0.0000, NDCG@5: 0.0000\n",
      "Number of results: 30\n",
      "---\n",
      "QID: 312\n",
      "Query: Hydroponics\n",
      "MAP: 0.0000, NDCG@5: 0.0000\n",
      "Number of results: 30\n",
      "---\n",
      "QID: 313\n",
      "Query: Magnetic Levitation-Maglev\n",
      "MAP: 0.0000, NDCG@5: 0.0000\n",
      "Number of results: 30\n",
      "---\n",
      "\n",
      "Best Performing Queries (by MAP):\n",
      "QID: 419\n",
      "Query: recycle, automobile tires\n",
      "MAP: 0.2125, NDCG@5: 0.7227\n",
      "Number of results: 30\n",
      "---\n",
      "QID: 344\n",
      "Query: Abuses of E-Mail\n",
      "MAP: 0.3333, NDCG@5: 0.5087\n",
      "Number of results: 30\n",
      "---\n",
      "QID: 351\n",
      "Query: Falkland petroleum exploration\n",
      "MAP: 0.3617, NDCG@5: 1.0000\n",
      "Number of results: 30\n",
      "---\n",
      "QID: 445\n",
      "Query: women clergy\n",
      "MAP: 0.3822, NDCG@5: 1.0000\n",
      "Number of results: 30\n",
      "---\n",
      "QID: 338\n",
      "Query: Risk of Aspirin\n",
      "MAP: 0.4000, NDCG@5: 0.5531\n",
      "Number of results: 30\n",
      "---\n",
      "\n",
      "=== Retrieval Method Comparison ===\n",
      "Dense Retrieval Metrics:\n",
      "map: 0.0576\n",
      "ndcg: 0.1348\n",
      "ndcg_cut_5: 0.3668\n",
      "ndcg_cut_10: 0.3168\n"
     ]
    }
   ],
   "source": [
    "# Run dense retrieval\n",
    "print(\"Running dense retrieval evaluation...\")\n",
    "trec_run, rows_for_csv = run_dense_search(app, queries, model)\n",
    "\n",
    "# Evaluate results\n",
    "per_query_metrics, dense_aggregate_metrics = evaluate_search_results(\n",
    "    trec_run=trec_run,\n",
    "    qrels=qrels,\n",
    "    rows_for_csv=rows_for_csv,\n",
    "    output_csv=DENSE_OUTPUT_CSV,\n",
    "    per_query_json=DENSE_PER_QUERY_JSON,\n",
    "    aggregate_json=DENSE_AGGREGATE_JSON\n",
    ")\n",
    "\n",
    "# Analyze performance\n",
    "performance_data = analyze_dense_performance(queries, per_query_metrics, trec_run)\n",
    "\n",
    "# Display comparison with sparse retrieval (if available)\n",
    "try:\n",
    "    print(\"\\n=== Retrieval Method Comparison ===\")\n",
    "    print(\"Dense Retrieval Metrics:\")\n",
    "    for metric, value in sparse_aggregate_metrics.items():\n",
    "        print(f\"{metric}: {value:.4f}\")\n",
    "    \n",
    "    if 'sparse_metrics' in globals():  # If sparse metrics were computed earlier\n",
    "        print(\"\\nSparse Retrieval Metrics:\")\n",
    "        for metric, value in sparse_aggregate_metrics.items():\n",
    "            print(f\"{metric}: {value:.4f}\")\n",
    "except NameError:\n",
    "    print(\"\\nNote: Sparse retrieval metrics not available for comparison\")"
   ]
  },
  {
   "cell_type": "code",
   "execution_count": 24,
   "id": "4327dee2",
   "metadata": {},
   "outputs": [],
   "source": [
    "def run_hybrid_search(app, queries, model, top_k=30):\n",
    "    \"\"\"\n",
    "    Run hybrid retrieval search using BM25 and embedding similarity.\n",
    "\n",
    "    Args:\n",
    "        app: Vespa application instance.\n",
    "        queries: List of query dictionaries.\n",
    "        model: SentenceTransformer model instance.\n",
    "        top_k: Number of results to retrieve per query.\n",
    "\n",
    "    Returns:\n",
    "        trec_run: Dictionary of results in TREC format.\n",
    "        rows_for_csv: List of result rows for CSV output.\n",
    "    \"\"\"\n",
    "    trec_run = {}\n",
    "    rows_for_csv = []\n",
    "\n",
    "    print(f\"[hybrid_search] Running {len(queries)} queries with top {top_k} results each...\")\n",
    "\n",
    "    for q in tqdm(queries, desc=\"Hybrid Queries\", unit=\"query\"):\n",
    "        qid = q[\"qid\"]\n",
    "        query_text = q[\"query\"]\n",
    "\n",
    "        # Encode query into embedding\n",
    "        query_embedding = model.encode(query_text).tolist()\n",
    "\n",
    "        # Construct YQL for hybrid search: BM25 + Embedding similarity\n",
    "        # Use single braces for targetHits and ensure matching tensor names\n",
    "        yql = f'select * from sources ftvespa where ([{{targetHits:{top_k}}}]nearestNeighbor(embedding, embedding_text)) or userQuery();'\n",
    "\n",
    "        # Prepare the query body\n",
    "        query_body = {\n",
    "            \"yql\": yql,\n",
    "            \"ranking.profile\": \"bm25_embedding_similarity\",  # Use hybrid rank profile\n",
    "            \"hits\": top_k,\n",
    "            \"query\": query_text,\n",
    "            \"type\": \"any\",\n",
    "            # Pass the query embedding with the correct feature name\n",
    "            \"ranking.features.query(embedding_text)\": query_embedding,\n",
    "        }\n",
    "\n",
    "        try:\n",
    "            response: VespaQueryResponse = app.query(body=query_body)\n",
    "\n",
    "            if response.is_successful():\n",
    "                hits = response.hits\n",
    "                if hits:\n",
    "                    doc_scores = {}\n",
    "                    rank = 1\n",
    "                    for hit in hits:\n",
    "                        doc_id = hit[\"id\"].split(\"::\")[-1]  # Adjust if your docid format is different\n",
    "                        score = float(hit[\"relevance\"])\n",
    "\n",
    "                        doc_scores[doc_id] = score\n",
    "                        rows_for_csv.append([qid, doc_id, rank, score])\n",
    "                        rank += 1\n",
    "\n",
    "                    trec_run[qid] = doc_scores\n",
    "            else:\n",
    "                print(f\"[hybrid_search] Query failed for qid {qid}: Status {response.status_code}\")\n",
    "                print(f\"Response: {response.get_json()}\")\n",
    "\n",
    "        except Exception as e:\n",
    "            print(f\"[hybrid_search] Error processing query {qid}: {str(e)}\")\n",
    "            continue\n",
    "\n",
    "    print(f\"\\n[hybrid_search] Total queries with hits: {len(trec_run)} out of {len(queries)}\")\n",
    "    print(f\"[hybrid_search] Total documents retrieved: {sum(len(docs) for docs in trec_run.values())}\")\n",
    "\n",
    "    return trec_run, rows_for_csv\n"
   ]
  },
  {
   "cell_type": "code",
   "execution_count": 25,
   "id": "3695f3f4",
   "metadata": {},
   "outputs": [
    {
     "name": "stdout",
     "output_type": "stream",
     "text": [
      "Running hybrid retrieval evaluation...\n",
      "[hybrid_search] Running 150 queries with top 30 results each...\n"
     ]
    },
    {
     "data": {
      "application/vnd.jupyter.widget-view+json": {
       "model_id": "59721ecbdc094bf1885944a3da7b5eb8",
       "version_major": 2,
       "version_minor": 0
      },
      "text/plain": [
       "Hybrid Queries:   0%|          | 0/150 [00:00<?, ?query/s]"
      ]
     },
     "metadata": {},
     "output_type": "display_data"
    },
    {
     "name": "stdout",
     "output_type": "stream",
     "text": [
      "\n",
      "[hybrid_search] Total queries with hits: 150 out of 150\n",
      "[hybrid_search] Total documents retrieved: 4500\n"
     ]
    }
   ],
   "source": [
    "# Define top_k for hybrid search\n",
    "HYPER_TOP_K = 30  # Adjust as needed\n",
    "\n",
    "# Run hybrid search\n",
    "print(\"Running hybrid retrieval evaluation...\")\n",
    "hybrid_trec_run, hybrid_rows_for_csv = run_hybrid_search(app, queries, model, top_k=HYPER_TOP_K)"
   ]
  },
  {
   "cell_type": "code",
   "execution_count": 26,
   "id": "e9ae2980",
   "metadata": {},
   "outputs": [
    {
     "name": "stdout",
     "output_type": "stream",
     "text": [
      "\n",
      "--- EVALUATION RESULTS over 150 queries ---\n",
      "map: 0.0580\n",
      "ndcg: 0.1364\n",
      "ndcg_cut_5: 0.3594\n",
      "ndcg_cut_10: 0.3065\n",
      "\n",
      "Wrote top-K results to hybrid_topk.csv\n",
      "Wrote per-query metrics to hybrid_per_query.json\n",
      "Wrote aggregate metrics to hybrid_metrics.json\n"
     ]
    }
   ],
   "source": [
    "# Define output file paths for hybrid retrieval\n",
    "HYBRID_OUTPUT_CSV = \"hybrid_topk.csv\"\n",
    "HYBRID_PER_QUERY_JSON = \"hybrid_per_query.json\"\n",
    "HYBRID_AGGREGATE_JSON = \"hybrid_metrics.json\"\n",
    "\n",
    "# Evaluate hybrid search results\n",
    "hybrid_per_query_metrics, hybrid_aggregate_metrics = evaluate_search_results(\n",
    "    trec_run=hybrid_trec_run,\n",
    "    qrels=qrels,\n",
    "    rows_for_csv=hybrid_rows_for_csv,\n",
    "    output_csv=HYBRID_OUTPUT_CSV,\n",
    "    per_query_json=HYBRID_PER_QUERY_JSON,\n",
    "    aggregate_json=HYBRID_AGGREGATE_JSON\n",
    ")\n"
   ]
  },
  {
   "cell_type": "code",
   "execution_count": 27,
   "id": "06d95f63",
   "metadata": {},
   "outputs": [
    {
     "name": "stdout",
     "output_type": "stream",
     "text": [
      "    Metric Retrieval Method     Score\n",
      "0      MAP             BM25  0.057573\n",
      "1   NDCG@5             BM25  0.366751\n",
      "2  NDCG@10             BM25  0.316787\n",
      "3      MAP            Dense  0.051136\n",
      "4   NDCG@5            Dense  0.351742\n",
      "5  NDCG@10            Dense  0.301592\n",
      "6      MAP           Hybrid  0.057969\n",
      "7   NDCG@5           Hybrid  0.359438\n",
      "8  NDCG@10           Hybrid  0.306540\n"
     ]
    },
    {
     "data": {
      "image/png": "[encoded data removed]",
      "text/plain": [
       "<Figure size 1000x600 with 1 Axes>"
      ]
     },
     "metadata": {},
     "output_type": "display_data"
    }
   ],
   "source": [
    "import pandas as pd\n",
    "import seaborn as sns\n",
    "import matplotlib.pyplot as plt\n",
    "\n",
    "data = {\n",
    "    'Metric': ['MAP', 'NDCG@5', 'NDCG@10'],\n",
    "    'BM25': [sparse_aggregate_metrics.get('map', 0.0),\n",
    "             sparse_aggregate_metrics.get('ndcg_cut_5', 0.0),\n",
    "             sparse_aggregate_metrics.get('ndcg_cut_10', 0.0)],\n",
    "    'Dense': [dense_aggregate_metrics.get('map', 0.0),\n",
    "              dense_aggregate_metrics.get('ndcg_cut_5', 0.0),\n",
    "              dense_aggregate_metrics.get('ndcg_cut_10', 0.0)],\n",
    "    'Hybrid': [hybrid_aggregate_metrics.get('map', 0.0),\n",
    "               hybrid_aggregate_metrics.get('ndcg_cut_5', 0.0),\n",
    "               hybrid_aggregate_metrics.get('ndcg_cut_10', 0.0)]\n",
    "}\n",
    "\n",
    "df = pd.DataFrame(data)\n",
    "df_melted = df.melt(id_vars='Metric', var_name='Retrieval Method', value_name='Score')\n",
    "\n",
    "print(df_melted)\n",
    "\n",
    "# Set the style for seaborn\n",
    "sns.set(style=\"whitegrid\")\n",
    "\n",
    "# Initialize the matplotlib figure\n",
    "plt.figure(figsize=(10, 6))\n",
    "\n",
    "# Create a barplot\n",
    "sns.barplot(x='Metric', y='Score', hue='Retrieval Method', data=df_melted, palette='viridis')\n",
    "\n",
    "# Add titles and labels\n",
    "plt.title('Comparison of Retrieval Methods Across Evaluation Metrics', fontsize=16)\n",
    "plt.xlabel('Evaluation Metrics', fontsize=14)\n",
    "plt.ylabel('Scores', fontsize=14)\n",
    "\n",
    "# Adjust legend\n",
    "plt.legend(title='Retrieval Method')\n",
    "\n",
    "# Save the plot (optional)\n",
    "plt.savefig('retrieval_methods_comparison.png', dpi=300)\n",
    "\n",
    "# Display the plot\n",
    "plt.tight_layout()\n",
    "plt.show()"
   ]
  }
 ],
 "metadata": {
  "kernelspec": {
   "display_name": "Python 3",
   "language": "python",
   "name": "python3"
  },
  "language_info": {
   "codemirror_mode": {
    "name": "ipython",
    "version": 3
   },
   "file_extension": ".py",
   "mimetype": "text/x-python",
   "name": "python",
   "nbconvert_exporter": "python",
   "pygments_lexer": "ipython3",
   "version": "3.10.12"
  }
 },
 "nbformat": 4,
 "nbformat_minor": 5
}
